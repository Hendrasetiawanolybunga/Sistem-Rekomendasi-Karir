{
  "cells": [
    {
      "cell_type": "markdown",
      "id": "feac9029",
      "metadata": {
        "id": "feac9029"
      },
      "source": [
        "# Import Library"
      ]
    },
    {
      "cell_type": "code",
      "source": [
        "!pip install tensorflowjs"
      ],
      "metadata": {
        "colab": {
          "base_uri": "https://localhost:8080/"
        },
        "id": "QzC-vF5B47ta",
        "outputId": "ba649d1b-320a-42f4-f174-2282f65ea679"
      },
      "id": "QzC-vF5B47ta",
      "execution_count": 54,
      "outputs": [
        {
          "output_type": "stream",
          "name": "stdout",
          "text": [
            "Requirement already satisfied: tensorflowjs in /usr/local/lib/python3.11/dist-packages (4.22.0)\n",
            "Requirement already satisfied: flax>=0.7.2 in /usr/local/lib/python3.11/dist-packages (from tensorflowjs) (0.10.6)\n",
            "Requirement already satisfied: importlib_resources>=5.9.0 in /usr/local/lib/python3.11/dist-packages (from tensorflowjs) (6.5.2)\n",
            "Requirement already satisfied: jax>=0.4.13 in /usr/local/lib/python3.11/dist-packages (from tensorflowjs) (0.5.2)\n",
            "Requirement already satisfied: jaxlib>=0.4.13 in /usr/local/lib/python3.11/dist-packages (from tensorflowjs) (0.5.1)\n",
            "Requirement already satisfied: tensorflow<3,>=2.13.0 in /usr/local/lib/python3.11/dist-packages (from tensorflowjs) (2.18.0)\n",
            "Requirement already satisfied: tf-keras>=2.13.0 in /usr/local/lib/python3.11/dist-packages (from tensorflowjs) (2.18.0)\n",
            "Requirement already satisfied: tensorflow-decision-forests>=1.5.0 in /usr/local/lib/python3.11/dist-packages (from tensorflowjs) (1.11.0)\n",
            "Requirement already satisfied: six<2,>=1.16.0 in /usr/local/lib/python3.11/dist-packages (from tensorflowjs) (1.17.0)\n",
            "Requirement already satisfied: tensorflow-hub>=0.16.1 in /usr/local/lib/python3.11/dist-packages (from tensorflowjs) (0.16.1)\n",
            "Requirement already satisfied: packaging~=23.1 in /usr/local/lib/python3.11/dist-packages (from tensorflowjs) (23.2)\n",
            "Requirement already satisfied: numpy>=1.23.2 in /usr/local/lib/python3.11/dist-packages (from flax>=0.7.2->tensorflowjs) (2.0.2)\n",
            "Requirement already satisfied: msgpack in /usr/local/lib/python3.11/dist-packages (from flax>=0.7.2->tensorflowjs) (1.1.0)\n",
            "Requirement already satisfied: optax in /usr/local/lib/python3.11/dist-packages (from flax>=0.7.2->tensorflowjs) (0.2.4)\n",
            "Requirement already satisfied: orbax-checkpoint in /usr/local/lib/python3.11/dist-packages (from flax>=0.7.2->tensorflowjs) (0.11.13)\n",
            "Requirement already satisfied: tensorstore in /usr/local/lib/python3.11/dist-packages (from flax>=0.7.2->tensorflowjs) (0.1.74)\n",
            "Requirement already satisfied: rich>=11.1 in /usr/local/lib/python3.11/dist-packages (from flax>=0.7.2->tensorflowjs) (13.9.4)\n",
            "Requirement already satisfied: typing_extensions>=4.2 in /usr/local/lib/python3.11/dist-packages (from flax>=0.7.2->tensorflowjs) (4.13.2)\n",
            "Requirement already satisfied: PyYAML>=5.4.1 in /usr/local/lib/python3.11/dist-packages (from flax>=0.7.2->tensorflowjs) (6.0.2)\n",
            "Requirement already satisfied: treescope>=0.1.7 in /usr/local/lib/python3.11/dist-packages (from flax>=0.7.2->tensorflowjs) (0.1.9)\n",
            "Requirement already satisfied: ml_dtypes>=0.4.0 in /usr/local/lib/python3.11/dist-packages (from jax>=0.4.13->tensorflowjs) (0.4.1)\n",
            "Requirement already satisfied: opt_einsum in /usr/local/lib/python3.11/dist-packages (from jax>=0.4.13->tensorflowjs) (3.4.0)\n",
            "Requirement already satisfied: scipy>=1.11.1 in /usr/local/lib/python3.11/dist-packages (from jax>=0.4.13->tensorflowjs) (1.15.3)\n",
            "Requirement already satisfied: absl-py>=1.0.0 in /usr/local/lib/python3.11/dist-packages (from tensorflow<3,>=2.13.0->tensorflowjs) (1.4.0)\n",
            "Requirement already satisfied: astunparse>=1.6.0 in /usr/local/lib/python3.11/dist-packages (from tensorflow<3,>=2.13.0->tensorflowjs) (1.6.3)\n",
            "Requirement already satisfied: flatbuffers>=24.3.25 in /usr/local/lib/python3.11/dist-packages (from tensorflow<3,>=2.13.0->tensorflowjs) (25.2.10)\n",
            "Requirement already satisfied: gast!=0.5.0,!=0.5.1,!=0.5.2,>=0.2.1 in /usr/local/lib/python3.11/dist-packages (from tensorflow<3,>=2.13.0->tensorflowjs) (0.6.0)\n",
            "Requirement already satisfied: google-pasta>=0.1.1 in /usr/local/lib/python3.11/dist-packages (from tensorflow<3,>=2.13.0->tensorflowjs) (0.2.0)\n",
            "Requirement already satisfied: libclang>=13.0.0 in /usr/local/lib/python3.11/dist-packages (from tensorflow<3,>=2.13.0->tensorflowjs) (18.1.1)\n",
            "Requirement already satisfied: protobuf!=4.21.0,!=4.21.1,!=4.21.2,!=4.21.3,!=4.21.4,!=4.21.5,<6.0.0dev,>=3.20.3 in /usr/local/lib/python3.11/dist-packages (from tensorflow<3,>=2.13.0->tensorflowjs) (5.29.4)\n",
            "Requirement already satisfied: requests<3,>=2.21.0 in /usr/local/lib/python3.11/dist-packages (from tensorflow<3,>=2.13.0->tensorflowjs) (2.32.3)\n",
            "Requirement already satisfied: setuptools in /usr/local/lib/python3.11/dist-packages (from tensorflow<3,>=2.13.0->tensorflowjs) (75.2.0)\n",
            "Requirement already satisfied: termcolor>=1.1.0 in /usr/local/lib/python3.11/dist-packages (from tensorflow<3,>=2.13.0->tensorflowjs) (3.1.0)\n",
            "Requirement already satisfied: wrapt>=1.11.0 in /usr/local/lib/python3.11/dist-packages (from tensorflow<3,>=2.13.0->tensorflowjs) (1.17.2)\n",
            "Requirement already satisfied: grpcio<2.0,>=1.24.3 in /usr/local/lib/python3.11/dist-packages (from tensorflow<3,>=2.13.0->tensorflowjs) (1.71.0)\n",
            "Requirement already satisfied: tensorboard<2.19,>=2.18 in /usr/local/lib/python3.11/dist-packages (from tensorflow<3,>=2.13.0->tensorflowjs) (2.18.0)\n",
            "Requirement already satisfied: keras>=3.5.0 in /usr/local/lib/python3.11/dist-packages (from tensorflow<3,>=2.13.0->tensorflowjs) (3.8.0)\n",
            "Requirement already satisfied: h5py>=3.11.0 in /usr/local/lib/python3.11/dist-packages (from tensorflow<3,>=2.13.0->tensorflowjs) (3.13.0)\n",
            "Requirement already satisfied: tensorflow-io-gcs-filesystem>=0.23.1 in /usr/local/lib/python3.11/dist-packages (from tensorflow<3,>=2.13.0->tensorflowjs) (0.37.1)\n",
            "Requirement already satisfied: pandas in /usr/local/lib/python3.11/dist-packages (from tensorflow-decision-forests>=1.5.0->tensorflowjs) (2.2.2)\n",
            "Requirement already satisfied: wheel in /usr/local/lib/python3.11/dist-packages (from tensorflow-decision-forests>=1.5.0->tensorflowjs) (0.45.1)\n",
            "Requirement already satisfied: wurlitzer in /usr/local/lib/python3.11/dist-packages (from tensorflow-decision-forests>=1.5.0->tensorflowjs) (3.1.1)\n",
            "Requirement already satisfied: ydf in /usr/local/lib/python3.11/dist-packages (from tensorflow-decision-forests>=1.5.0->tensorflowjs) (0.12.0)\n",
            "Requirement already satisfied: namex in /usr/local/lib/python3.11/dist-packages (from keras>=3.5.0->tensorflow<3,>=2.13.0->tensorflowjs) (0.0.9)\n",
            "Requirement already satisfied: optree in /usr/local/lib/python3.11/dist-packages (from keras>=3.5.0->tensorflow<3,>=2.13.0->tensorflowjs) (0.15.0)\n",
            "Requirement already satisfied: charset-normalizer<4,>=2 in /usr/local/lib/python3.11/dist-packages (from requests<3,>=2.21.0->tensorflow<3,>=2.13.0->tensorflowjs) (3.4.2)\n",
            "Requirement already satisfied: idna<4,>=2.5 in /usr/local/lib/python3.11/dist-packages (from requests<3,>=2.21.0->tensorflow<3,>=2.13.0->tensorflowjs) (3.10)\n",
            "Requirement already satisfied: urllib3<3,>=1.21.1 in /usr/local/lib/python3.11/dist-packages (from requests<3,>=2.21.0->tensorflow<3,>=2.13.0->tensorflowjs) (2.4.0)\n",
            "Requirement already satisfied: certifi>=2017.4.17 in /usr/local/lib/python3.11/dist-packages (from requests<3,>=2.21.0->tensorflow<3,>=2.13.0->tensorflowjs) (2025.4.26)\n",
            "Requirement already satisfied: markdown-it-py>=2.2.0 in /usr/local/lib/python3.11/dist-packages (from rich>=11.1->flax>=0.7.2->tensorflowjs) (3.0.0)\n",
            "Requirement already satisfied: pygments<3.0.0,>=2.13.0 in /usr/local/lib/python3.11/dist-packages (from rich>=11.1->flax>=0.7.2->tensorflowjs) (2.19.1)\n",
            "Requirement already satisfied: markdown>=2.6.8 in /usr/local/lib/python3.11/dist-packages (from tensorboard<2.19,>=2.18->tensorflow<3,>=2.13.0->tensorflowjs) (3.8)\n",
            "Requirement already satisfied: tensorboard-data-server<0.8.0,>=0.7.0 in /usr/local/lib/python3.11/dist-packages (from tensorboard<2.19,>=2.18->tensorflow<3,>=2.13.0->tensorflowjs) (0.7.2)\n",
            "Requirement already satisfied: werkzeug>=1.0.1 in /usr/local/lib/python3.11/dist-packages (from tensorboard<2.19,>=2.18->tensorflow<3,>=2.13.0->tensorflowjs) (3.1.3)\n",
            "Requirement already satisfied: chex>=0.1.87 in /usr/local/lib/python3.11/dist-packages (from optax->flax>=0.7.2->tensorflowjs) (0.1.89)\n",
            "Requirement already satisfied: etils[epy] in /usr/local/lib/python3.11/dist-packages (from optax->flax>=0.7.2->tensorflowjs) (1.12.2)\n",
            "Requirement already satisfied: nest_asyncio in /usr/local/lib/python3.11/dist-packages (from orbax-checkpoint->flax>=0.7.2->tensorflowjs) (1.6.0)\n",
            "Requirement already satisfied: humanize in /usr/local/lib/python3.11/dist-packages (from orbax-checkpoint->flax>=0.7.2->tensorflowjs) (4.12.3)\n",
            "Requirement already satisfied: simplejson>=3.16.0 in /usr/local/lib/python3.11/dist-packages (from orbax-checkpoint->flax>=0.7.2->tensorflowjs) (3.20.1)\n",
            "Requirement already satisfied: python-dateutil>=2.8.2 in /usr/local/lib/python3.11/dist-packages (from pandas->tensorflow-decision-forests>=1.5.0->tensorflowjs) (2.9.0.post0)\n",
            "Requirement already satisfied: pytz>=2020.1 in /usr/local/lib/python3.11/dist-packages (from pandas->tensorflow-decision-forests>=1.5.0->tensorflowjs) (2025.2)\n",
            "Requirement already satisfied: tzdata>=2022.7 in /usr/local/lib/python3.11/dist-packages (from pandas->tensorflow-decision-forests>=1.5.0->tensorflowjs) (2025.2)\n",
            "Requirement already satisfied: toolz>=0.9.0 in /usr/local/lib/python3.11/dist-packages (from chex>=0.1.87->optax->flax>=0.7.2->tensorflowjs) (0.12.1)\n",
            "Requirement already satisfied: mdurl~=0.1 in /usr/local/lib/python3.11/dist-packages (from markdown-it-py>=2.2.0->rich>=11.1->flax>=0.7.2->tensorflowjs) (0.1.2)\n",
            "Requirement already satisfied: MarkupSafe>=2.1.1 in /usr/local/lib/python3.11/dist-packages (from werkzeug>=1.0.1->tensorboard<2.19,>=2.18->tensorflow<3,>=2.13.0->tensorflowjs) (3.0.2)\n",
            "Requirement already satisfied: fsspec in /usr/local/lib/python3.11/dist-packages (from etils[epath,epy]->orbax-checkpoint->flax>=0.7.2->tensorflowjs) (2025.3.2)\n",
            "Requirement already satisfied: zipp in /usr/local/lib/python3.11/dist-packages (from etils[epath,epy]->orbax-checkpoint->flax>=0.7.2->tensorflowjs) (3.21.0)\n"
          ]
        }
      ]
    },
    {
      "cell_type": "code",
      "execution_count": 70,
      "id": "daaf5e5f",
      "metadata": {
        "id": "daaf5e5f"
      },
      "outputs": [],
      "source": [
        "import pandas as pd\n",
        "import numpy as np\n",
        "from sklearn.metrics import classification_report, accuracy_score\n",
        "from sklearn.model_selection import train_test_split\n",
        "from sklearn.preprocessing import StandardScaler\n",
        "from sklearn.preprocessing import LabelEncoder\n",
        "from tensorflow.keras.models import Sequential\n",
        "from tensorflow.keras.layers import Dense\n",
        "from tensorflow.keras.utils import to_categorical\n",
        "import tensorflowjs as tfjs"
      ]
    },
    {
      "cell_type": "code",
      "execution_count": 56,
      "id": "c827eb5b",
      "metadata": {
        "id": "c827eb5b"
      },
      "outputs": [],
      "source": [
        "# Load dan gabungkan dataset\n",
        "df1 = pd.read_csv(\"/content/Dataset1.csv\")\n",
        "df2 = pd.read_csv(\"/content/Dataset2.csv\")\n",
        "df = pd.concat([df1.reset_index(drop=True), df2.reset_index(drop=True)], axis=1)\n",
        "df['Job profession'] = df['Job profession'].str.strip()\n"
      ]
    },
    {
      "cell_type": "code",
      "execution_count": 57,
      "id": "392e6122",
      "metadata": {
        "colab": {
          "base_uri": "https://localhost:8080/"
        },
        "id": "392e6122",
        "outputId": "7cdc959f-a51c-44fb-e9a5-4546048eb327"
      },
      "outputs": [
        {
          "output_type": "stream",
          "name": "stdout",
          "text": [
            "   Sr.No.  Course Job profession Student  Linguistic  Musical  Bodily  \\\n",
            "0     1.0     NaN   Astronomer\\n      S1          11        5      12   \n",
            "1     NaN     NaN   Astronomer\\n      S2          12        6      12   \n",
            "2     NaN     NaN   Astronomer\\n      S3          13        7      12   \n",
            "3     NaN     NaN   Astronomer\\n      S4          14        8      12   \n",
            "4     NaN     NaN   Astronomer\\n      S5          13        9      12   \n",
            "\n",
            "   Logical - Mathematical  Spatial-Visualization  Interpersonal  ...  \\\n",
            "0                      16                     17             11  ...   \n",
            "1                      16                     16             11  ...   \n",
            "2                      16                     15             11  ...   \n",
            "3                      16                     19             11  ...   \n",
            "4                      16                     20             11  ...   \n",
            "\n",
            "   Naturalist  s/p   P1    P2   P3    P4    P5   P6    P7    P8  \n",
            "0          19   s1  AVG  POOR  AVG  BEST  BEST  AVG  BEST  BEST  \n",
            "1          19   s2  AVG  POOR  AVG  BEST  BEST  AVG  BEST  BEST  \n",
            "2          19   s3  AVG  POOR  AVG  BEST  BEST  AVG  BEST  BEST  \n",
            "3          19   s4  AVG  POOR  AVG  BEST  BEST  AVG  BEST  BEST  \n",
            "4          19   s5  AVG  POOR  AVG  BEST  BEST  AVG  BEST  BEST  \n",
            "\n",
            "[5 rows x 21 columns]\n"
          ]
        }
      ],
      "source": [
        "print(df1.head())"
      ]
    },
    {
      "cell_type": "code",
      "execution_count": 58,
      "id": "829b5056",
      "metadata": {
        "colab": {
          "base_uri": "https://localhost:8080/"
        },
        "id": "829b5056",
        "outputId": "91ccd441-5287-4174-ded7-d7327df15fc5"
      },
      "outputs": [
        {
          "output_type": "stream",
          "name": "stdout",
          "text": [
            "   id first_name last_name                                  email  gender  \\\n",
            "0   1       Paul     Casey         paul.casey.1@gslingacademy.com    male   \n",
            "1   2   Danielle  Sandoval  danielle.sandoval.2@gslingacademy.com  female   \n",
            "2   3       Tina   Andrews       tina.andrews.3@gslingacademy.com  female   \n",
            "3   4       Tara     Clark         tara.clark.4@gslingacademy.com  female   \n",
            "4   5    Anthony    Campos     anthony.campos.5@gslingacademy.com    male   \n",
            "\n",
            "   part_time_job  absence_days  extracurricular_activities  \\\n",
            "0          False             3                       False   \n",
            "1          False             2                       False   \n",
            "2          False             9                        True   \n",
            "3          False             5                       False   \n",
            "4          False             5                       False   \n",
            "\n",
            "   weekly_self_study_hours   career_aspiration  math_score  history_score  \\\n",
            "0                       27              Lawyer          73             81   \n",
            "1                       47              Doctor          90             86   \n",
            "2                       13  Government Officer          81             97   \n",
            "3                        3              Artist          71             74   \n",
            "4                       10             Unknown          84             77   \n",
            "\n",
            "   physics_score  chemistry_score  biology_score  english_score  \\\n",
            "0             93               97             63             80   \n",
            "1             96              100             90             88   \n",
            "2             95               96             65             77   \n",
            "3             88               80             89             63   \n",
            "4             65               65             80             74   \n",
            "\n",
            "   geography_score  \n",
            "0               87  \n",
            "1               90  \n",
            "2               94  \n",
            "3               86  \n",
            "4               76  \n"
          ]
        }
      ],
      "source": [
        "print(df2.head())"
      ]
    },
    {
      "cell_type": "code",
      "execution_count": 59,
      "id": "5c8d25f6",
      "metadata": {
        "id": "5c8d25f6"
      },
      "outputs": [],
      "source": [
        " #Fitur dan target\n",
        "features = [\n",
        "    'Linguistic', 'Musical', 'Bodily',\n",
        "    'Logical - Mathematical', 'Spatial-Visualization',\n",
        "    'Interpersonal', 'Naturalist',\n",
        "    'math_score', 'physics_score', 'biology_score',\n",
        "    'english_score', 'history_score', 'chemistry_score', 'geography_score',\n",
        "    'weekly_self_study_hours', 'absence_days'\n",
        "]\n",
        "X = df[features].astype(float)\n",
        "y = df['Job profession']\n"
      ]
    },
    {
      "cell_type": "code",
      "source": [
        "# Cek dan bersihkan data\n",
        "X = df[features].astype(float).fillna(0)\n",
        "X = X.replace([np.inf, -np.inf], 0)"
      ],
      "metadata": {
        "id": "l0uxO0V28fNs"
      },
      "id": "l0uxO0V28fNs",
      "execution_count": 60,
      "outputs": []
    },
    {
      "cell_type": "code",
      "source": [
        "# Normalisasi\n",
        "scaler = StandardScaler()\n",
        "X_scaled = scaler.fit_transform(X)"
      ],
      "metadata": {
        "id": "EKVF0aqL8j5k"
      },
      "id": "EKVF0aqL8j5k",
      "execution_count": 61,
      "outputs": []
    },
    {
      "cell_type": "code",
      "execution_count": 62,
      "id": "336851f1",
      "metadata": {
        "id": "336851f1"
      },
      "outputs": [],
      "source": [
        "# Label encoding\n",
        "le = LabelEncoder()\n",
        "y_encoded = le.fit_transform(y)\n",
        "y_categorical = to_categorical(y_encoded)"
      ]
    },
    {
      "cell_type": "code",
      "execution_count": 63,
      "id": "7649726d",
      "metadata": {
        "id": "7649726d"
      },
      "outputs": [],
      "source": [
        "# Split data\n",
        "X_train, X_test, y_train, y_test = train_test_split(X_scaled, y_categorical, test_size=0.2, random_state=42)"
      ]
    },
    {
      "cell_type": "code",
      "execution_count": 64,
      "id": "1560b000",
      "metadata": {
        "colab": {
          "base_uri": "https://localhost:8080/"
        },
        "id": "1560b000",
        "outputId": "d50ba82f-c4bc-4256-915d-2984fbebe997"
      },
      "outputs": [
        {
          "output_type": "stream",
          "name": "stderr",
          "text": [
            "/usr/local/lib/python3.11/dist-packages/keras/src/layers/core/dense.py:87: UserWarning: Do not pass an `input_shape`/`input_dim` argument to a layer. When using Sequential models, prefer using an `Input(shape)` object as the first layer in the model instead.\n",
            "  super().__init__(activity_regularizer=activity_regularizer, **kwargs)\n"
          ]
        }
      ],
      "source": [
        "# Model Keras\n",
        "model = Sequential([\n",
        "    Dense(64, activation='relu', input_shape=(X_train.shape[1],)),\n",
        "    Dense(64, activation='relu'),\n",
        "    Dense(y_categorical.shape[1], activation='softmax')\n",
        "])\n",
        "\n",
        "model.compile(optimizer='adam', loss='categorical_crossentropy', metrics=['accuracy'])\n"
      ]
    },
    {
      "cell_type": "code",
      "execution_count": 65,
      "id": "d9b1c862",
      "metadata": {
        "colab": {
          "base_uri": "https://localhost:8080/"
        },
        "id": "d9b1c862",
        "outputId": "b74a4cbf-5f9b-474a-d5bc-85737e4f98b9"
      },
      "outputs": [
        {
          "output_type": "stream",
          "name": "stdout",
          "text": [
            "Epoch 1/30\n",
            "\u001b[1m144/144\u001b[0m \u001b[32m━━━━━━━━━━━━━━━━━━━━\u001b[0m\u001b[37m\u001b[0m \u001b[1m3s\u001b[0m 9ms/step - accuracy: 0.0880 - loss: 4.0149 - val_accuracy: 0.3785 - val_loss: 2.6159\n",
            "Epoch 2/30\n",
            "\u001b[1m144/144\u001b[0m \u001b[32m━━━━━━━━━━━━━━━━━━━━\u001b[0m\u001b[37m\u001b[0m \u001b[1m1s\u001b[0m 7ms/step - accuracy: 0.4815 - loss: 2.0963 - val_accuracy: 0.7066 - val_loss: 1.2697\n",
            "Epoch 3/30\n",
            "\u001b[1m144/144\u001b[0m \u001b[32m━━━━━━━━━━━━━━━━━━━━\u001b[0m\u001b[37m\u001b[0m \u001b[1m1s\u001b[0m 8ms/step - accuracy: 0.7459 - loss: 1.0348 - val_accuracy: 0.7830 - val_loss: 0.7951\n",
            "Epoch 4/30\n",
            "\u001b[1m144/144\u001b[0m \u001b[32m━━━━━━━━━━━━━━━━━━━━\u001b[0m\u001b[37m\u001b[0m \u001b[1m1s\u001b[0m 8ms/step - accuracy: 0.8238 - loss: 0.6686 - val_accuracy: 0.7812 - val_loss: 0.6400\n",
            "Epoch 5/30\n",
            "\u001b[1m144/144\u001b[0m \u001b[32m━━━━━━━━━━━━━━━━━━━━\u001b[0m\u001b[37m\u001b[0m \u001b[1m1s\u001b[0m 7ms/step - accuracy: 0.8503 - loss: 0.5070 - val_accuracy: 0.8194 - val_loss: 0.5293\n",
            "Epoch 6/30\n",
            "\u001b[1m144/144\u001b[0m \u001b[32m━━━━━━━━━━━━━━━━━━━━\u001b[0m\u001b[37m\u001b[0m \u001b[1m1s\u001b[0m 7ms/step - accuracy: 0.8679 - loss: 0.4353 - val_accuracy: 0.8125 - val_loss: 0.5105\n",
            "Epoch 7/30\n",
            "\u001b[1m144/144\u001b[0m \u001b[32m━━━━━━━━━━━━━━━━━━━━\u001b[0m\u001b[37m\u001b[0m \u001b[1m1s\u001b[0m 9ms/step - accuracy: 0.8767 - loss: 0.3694 - val_accuracy: 0.8455 - val_loss: 0.4375\n",
            "Epoch 8/30\n",
            "\u001b[1m144/144\u001b[0m \u001b[32m━━━━━━━━━━━━━━━━━━━━\u001b[0m\u001b[37m\u001b[0m \u001b[1m3s\u001b[0m 16ms/step - accuracy: 0.8802 - loss: 0.3408 - val_accuracy: 0.8403 - val_loss: 0.4262\n",
            "Epoch 9/30\n",
            "\u001b[1m144/144\u001b[0m \u001b[32m━━━━━━━━━━━━━━━━━━━━\u001b[0m\u001b[37m\u001b[0m \u001b[1m2s\u001b[0m 13ms/step - accuracy: 0.8944 - loss: 0.3163 - val_accuracy: 0.8403 - val_loss: 0.3942\n",
            "Epoch 10/30\n",
            "\u001b[1m144/144\u001b[0m \u001b[32m━━━━━━━━━━━━━━━━━━━━\u001b[0m\u001b[37m\u001b[0m \u001b[1m2s\u001b[0m 9ms/step - accuracy: 0.8974 - loss: 0.2891 - val_accuracy: 0.8628 - val_loss: 0.3704\n",
            "Epoch 11/30\n",
            "\u001b[1m144/144\u001b[0m \u001b[32m━━━━━━━━━━━━━━━━━━━━\u001b[0m\u001b[37m\u001b[0m \u001b[1m2s\u001b[0m 3ms/step - accuracy: 0.8832 - loss: 0.2913 - val_accuracy: 0.8663 - val_loss: 0.3544\n",
            "Epoch 12/30\n",
            "\u001b[1m144/144\u001b[0m \u001b[32m━━━━━━━━━━━━━━━━━━━━\u001b[0m\u001b[37m\u001b[0m \u001b[1m0s\u001b[0m 3ms/step - accuracy: 0.9004 - loss: 0.2818 - val_accuracy: 0.8559 - val_loss: 0.3593\n",
            "Epoch 13/30\n",
            "\u001b[1m144/144\u001b[0m \u001b[32m━━━━━━━━━━━━━━━━━━━━\u001b[0m\u001b[37m\u001b[0m \u001b[1m1s\u001b[0m 3ms/step - accuracy: 0.9105 - loss: 0.2368 - val_accuracy: 0.8490 - val_loss: 0.3480\n",
            "Epoch 14/30\n",
            "\u001b[1m144/144\u001b[0m \u001b[32m━━━━━━━━━━━━━━━━━━━━\u001b[0m\u001b[37m\u001b[0m \u001b[1m0s\u001b[0m 3ms/step - accuracy: 0.9151 - loss: 0.2453 - val_accuracy: 0.8524 - val_loss: 0.3525\n",
            "Epoch 15/30\n",
            "\u001b[1m144/144\u001b[0m \u001b[32m━━━━━━━━━━━━━━━━━━━━\u001b[0m\u001b[37m\u001b[0m \u001b[1m1s\u001b[0m 3ms/step - accuracy: 0.8993 - loss: 0.2527 - val_accuracy: 0.8628 - val_loss: 0.3676\n",
            "Epoch 16/30\n",
            "\u001b[1m144/144\u001b[0m \u001b[32m━━━━━━━━━━━━━━━━━━━━\u001b[0m\u001b[37m\u001b[0m \u001b[1m0s\u001b[0m 3ms/step - accuracy: 0.9110 - loss: 0.2224 - val_accuracy: 0.8715 - val_loss: 0.3358\n",
            "Epoch 17/30\n",
            "\u001b[1m144/144\u001b[0m \u001b[32m━━━━━━━━━━━━━━━━━━━━\u001b[0m\u001b[37m\u001b[0m \u001b[1m0s\u001b[0m 3ms/step - accuracy: 0.9156 - loss: 0.2273 - val_accuracy: 0.8524 - val_loss: 0.3800\n",
            "Epoch 18/30\n",
            "\u001b[1m144/144\u001b[0m \u001b[32m━━━━━━━━━━━━━━━━━━━━\u001b[0m\u001b[37m\u001b[0m \u001b[1m1s\u001b[0m 3ms/step - accuracy: 0.9253 - loss: 0.2071 - val_accuracy: 0.8785 - val_loss: 0.3283\n",
            "Epoch 19/30\n",
            "\u001b[1m144/144\u001b[0m \u001b[32m━━━━━━━━━━━━━━━━━━━━\u001b[0m\u001b[37m\u001b[0m \u001b[1m1s\u001b[0m 3ms/step - accuracy: 0.9136 - loss: 0.2236 - val_accuracy: 0.8628 - val_loss: 0.3424\n",
            "Epoch 20/30\n",
            "\u001b[1m144/144\u001b[0m \u001b[32m━━━━━━━━━━━━━━━━━━━━\u001b[0m\u001b[37m\u001b[0m \u001b[1m1s\u001b[0m 3ms/step - accuracy: 0.9067 - loss: 0.2167 - val_accuracy: 0.8663 - val_loss: 0.3386\n",
            "Epoch 21/30\n",
            "\u001b[1m144/144\u001b[0m \u001b[32m━━━━━━━━━━━━━━━━━━━━\u001b[0m\u001b[37m\u001b[0m \u001b[1m1s\u001b[0m 4ms/step - accuracy: 0.9179 - loss: 0.2152 - val_accuracy: 0.8698 - val_loss: 0.3114\n",
            "Epoch 22/30\n",
            "\u001b[1m144/144\u001b[0m \u001b[32m━━━━━━━━━━━━━━━━━━━━\u001b[0m\u001b[37m\u001b[0m \u001b[1m1s\u001b[0m 5ms/step - accuracy: 0.9139 - loss: 0.2039 - val_accuracy: 0.8455 - val_loss: 0.3610\n",
            "Epoch 23/30\n",
            "\u001b[1m144/144\u001b[0m \u001b[32m━━━━━━━━━━━━━━━━━━━━\u001b[0m\u001b[37m\u001b[0m \u001b[1m2s\u001b[0m 7ms/step - accuracy: 0.9190 - loss: 0.1974 - val_accuracy: 0.8819 - val_loss: 0.2995\n",
            "Epoch 24/30\n",
            "\u001b[1m144/144\u001b[0m \u001b[32m━━━━━━━━━━━━━━━━━━━━\u001b[0m\u001b[37m\u001b[0m \u001b[1m1s\u001b[0m 5ms/step - accuracy: 0.9316 - loss: 0.1758 - val_accuracy: 0.8681 - val_loss: 0.3282\n",
            "Epoch 25/30\n",
            "\u001b[1m144/144\u001b[0m \u001b[32m━━━━━━━━━━━━━━━━━━━━\u001b[0m\u001b[37m\u001b[0m \u001b[1m1s\u001b[0m 3ms/step - accuracy: 0.9283 - loss: 0.1728 - val_accuracy: 0.8767 - val_loss: 0.3071\n",
            "Epoch 26/30\n",
            "\u001b[1m144/144\u001b[0m \u001b[32m━━━━━━━━━━━━━━━━━━━━\u001b[0m\u001b[37m\u001b[0m \u001b[1m1s\u001b[0m 3ms/step - accuracy: 0.9336 - loss: 0.1733 - val_accuracy: 0.8854 - val_loss: 0.3069\n",
            "Epoch 27/30\n",
            "\u001b[1m144/144\u001b[0m \u001b[32m━━━━━━━━━━━━━━━━━━━━\u001b[0m\u001b[37m\u001b[0m \u001b[1m1s\u001b[0m 3ms/step - accuracy: 0.9247 - loss: 0.1895 - val_accuracy: 0.8698 - val_loss: 0.3082\n",
            "Epoch 28/30\n",
            "\u001b[1m144/144\u001b[0m \u001b[32m━━━━━━━━━━━━━━━━━━━━\u001b[0m\u001b[37m\u001b[0m \u001b[1m1s\u001b[0m 3ms/step - accuracy: 0.9246 - loss: 0.1820 - val_accuracy: 0.8785 - val_loss: 0.3044\n",
            "Epoch 29/30\n",
            "\u001b[1m144/144\u001b[0m \u001b[32m━━━━━━━━━━━━━━━━━━━━\u001b[0m\u001b[37m\u001b[0m \u001b[1m0s\u001b[0m 3ms/step - accuracy: 0.9367 - loss: 0.1558 - val_accuracy: 0.8854 - val_loss: 0.2983\n",
            "Epoch 30/30\n",
            "\u001b[1m144/144\u001b[0m \u001b[32m━━━━━━━━━━━━━━━━━━━━\u001b[0m\u001b[37m\u001b[0m \u001b[1m1s\u001b[0m 3ms/step - accuracy: 0.9342 - loss: 0.1624 - val_accuracy: 0.8889 - val_loss: 0.3047\n"
          ]
        },
        {
          "output_type": "execute_result",
          "data": {
            "text/plain": [
              "<keras.src.callbacks.history.History at 0x7854e396ce10>"
            ]
          },
          "metadata": {},
          "execution_count": 65
        }
      ],
      "source": [
        "# Train\n",
        "model.fit(X_train, y_train, epochs=30, batch_size=16, validation_split=0.2)\n"
      ]
    },
    {
      "cell_type": "code",
      "source": [
        "y_pred = model.predict(X_test)\n",
        "y_pred_labels = np.argmax(y_pred, axis=1)\n",
        "y_true_labels = np.argmax(y_test, axis=1)\n",
        "\n",
        "print(\"\\n Akurasi:\", accuracy_score(y_true_labels, y_pred_labels))\n",
        "print(\"\\n Classification Report:\\n\")\n",
        "print(classification_report(y_true_labels, y_pred_labels, target_names=le.classes_))"
      ],
      "metadata": {
        "colab": {
          "base_uri": "https://localhost:8080/"
        },
        "id": "x8mTzGnV9Nre",
        "outputId": "a01bddd8-a998-4e01-ab33-e301ad4a684b"
      },
      "id": "x8mTzGnV9Nre",
      "execution_count": 66,
      "outputs": [
        {
          "output_type": "stream",
          "name": "stdout",
          "text": [
            "\u001b[1m23/23\u001b[0m \u001b[32m━━━━━━━━━━━━━━━━━━━━\u001b[0m\u001b[37m\u001b[0m \u001b[1m0s\u001b[0m 4ms/step\n",
            "\n",
            " Akurasi: 0.8861111111111111\n",
            "\n",
            " Classification Report:\n",
            "\n",
            "                                                                                                precision    recall  f1-score   support\n",
            "\n",
            "                                                                               Actor / Actress       1.00      1.00      1.00        14\n",
            "                                                                                       Actuary       1.00      1.00      1.00         9\n",
            "                                                                                Anthropologist       1.00      1.00      1.00         8\n",
            "                                                                                  Archeologist       1.00      1.00      1.00         6\n",
            "                                                                                        Artist       1.00      1.00      1.00         7\n",
            "                                                                                    Astronomer       0.92      1.00      0.96        12\n",
            "                                                                                       Athlete       1.00      1.00      1.00        11\n",
            "                                                                                   Audiologist       0.90      0.82      0.86        11\n",
            "                                                                                       Banking       0.90      1.00      0.95         9\n",
            "                                                                                   Broadcaster       1.00      1.00      1.00         7\n",
            "                                                                              Business Analyst       0.80      0.89      0.84         9\n",
            "                                                                              Business manager       0.57      0.44      0.50         9\n",
            "                                                                          Chartered Accountant       0.69      0.75      0.72        12\n",
            "                                                                       Chief financial officer       0.92      1.00      0.96        11\n",
            "                                                                             Company secretary       0.47      0.88      0.61         8\n",
            "                                                                              Computer analyst       1.00      1.00      1.00        12\n",
            "                                                                           Computer programmer       1.00      1.00      1.00         7\n",
            "                                                                                    Consultant       0.50      0.78      0.61         9\n",
            "                                                                                     Counselor       0.92      1.00      0.96        12\n",
            "                                                                                 Criminologist       0.75      1.00      0.86         6\n",
            "                                                                                        Dancer       1.00      1.00      1.00         7\n",
            "                                                                             Database designer       0.90      1.00      0.95         9\n",
            "                                                                                     Economist       0.78      1.00      0.88         7\n",
            "                                                                                        Editor       0.93      1.00      0.97        14\n",
            "                                                                                      Engineer       0.52      1.00      0.68        13\n",
            "                                                                              Fashion Designer       1.00      1.00      1.00         9\n",
            "                                                                             Financial Advisor       0.75      0.46      0.57        13\n",
            "                                                                                     Geologist       1.00      0.92      0.96        12\n",
            "                                                                              Graphic Designer       1.00      1.00      1.00        12\n",
            "                                                                                     Historian       1.00      0.93      0.96        14\n",
            "                                                                            Interior Decorator       1.00      1.00      1.00        10\n",
            "                                                                              Internal auditor       0.90      0.82      0.86        11\n",
            "                                                                                    Journalist       0.75      0.86      0.80         7\n",
            "                                                                              Language Teacher       1.00      1.00      1.00        10\n",
            "                                                                                        Lawyer       0.80      0.89      0.84         9\n",
            "                                                                                        Leader       0.88      0.64      0.74        11\n",
            "                                                                                     Librarian       1.00      1.00      1.00        12\n",
            "                                                                             Logistics manager       0.60      0.27      0.38        11\n",
            "                                                                                       Manager       1.00      1.00      1.00         8\n",
            "                                                                              Marine Biologist       0.89      1.00      0.94         8\n",
            "                                                                                     Marketing       1.00      0.89      0.94         9\n",
            "                                                                                 Mathematician       0.00      0.00      0.00        12\n",
            "                                                                                      Mechanic       1.00      1.00      1.00        11\n",
            "                                                                                       Medical       1.00      1.00      1.00         8\n",
            "                                                  Middle, Higher School Teacher and Professors       1.00      1.00      1.00         9\n",
            "                                                                                       Militry       0.54      0.70      0.61        10\n",
            "                                                                                 Music teacher       1.00      1.00      1.00        17\n",
            "                                                                           Nature photographer       1.00      1.00      1.00        12\n",
            "Para Medical (physiotherapy, occupational theropy, audio and speech language theropy, nursing)       1.00      1.00      1.00        11\n",
            "                     Para Militry (https://en.wikipedia.org/wiki/Paramilitary_forces_of_India)       0.40      0.15      0.22        13\n",
            "                                                                                    Pharmacist       0.90      1.00      0.95         9\n",
            "                                                                                   Philosopher       1.00      1.00      1.00        13\n",
            "                                                                            Physical Therapist       1.00      1.00      1.00         8\n",
            "                                                                                     Physician       1.00      0.75      0.86         8\n",
            "                                                                                     Physicist       1.00      1.00      1.00        14\n",
            "                                                                                         Pilot       1.00      1.00      1.00        10\n",
            "                                                                                          Poet       1.00      1.00      1.00         6\n",
            "                                          Police Force (Spies, CBI officials, CID, Detectives)       0.27      0.50      0.35         6\n",
            "                                                                                    Politician       0.64      0.70      0.67        10\n",
            "                                              Pre Primary Teacher (2020 NEP and Mental Health)       1.00      1.00      1.00         6\n",
            "                                                                               Primary Teacher       1.00      1.00      1.00        11\n",
            "                                                                                  Psychologist       1.00      1.00      1.00        11\n",
            "                                                                                  Receptionist       1.00      1.00      1.00         4\n",
            "                                                                            Recording engineer       1.00      0.84      0.91        19\n",
            "                                                                              Research analyst       1.00      1.00      1.00        11\n",
            "                                                                          Sales Representative       0.83      0.71      0.77         7\n",
            "                                                                                 Social Worker       1.00      1.00      1.00         7\n",
            "                                                                                  Sound editor       1.00      1.00      1.00         7\n",
            "                                                                                  Stock Broker       0.90      0.90      0.90        10\n",
            "                                                                                    Technician       1.00      0.80      0.89        10\n",
            "                                                                                  Veterinarian       1.00      1.00      1.00        16\n",
            "                                                                                        Writer       1.00      1.00      1.00         9\n",
            "\n",
            "                                                                                      accuracy                           0.89       720\n",
            "                                                                                     macro avg       0.88      0.89      0.88       720\n",
            "                                                                                  weighted avg       0.88      0.89      0.88       720\n",
            "\n"
          ]
        },
        {
          "output_type": "stream",
          "name": "stderr",
          "text": [
            "/usr/local/lib/python3.11/dist-packages/sklearn/metrics/_classification.py:1565: UndefinedMetricWarning: Precision is ill-defined and being set to 0.0 in labels with no predicted samples. Use `zero_division` parameter to control this behavior.\n",
            "  _warn_prf(average, modifier, f\"{metric.capitalize()} is\", len(result))\n",
            "/usr/local/lib/python3.11/dist-packages/sklearn/metrics/_classification.py:1565: UndefinedMetricWarning: Precision is ill-defined and being set to 0.0 in labels with no predicted samples. Use `zero_division` parameter to control this behavior.\n",
            "  _warn_prf(average, modifier, f\"{metric.capitalize()} is\", len(result))\n",
            "/usr/local/lib/python3.11/dist-packages/sklearn/metrics/_classification.py:1565: UndefinedMetricWarning: Precision is ill-defined and being set to 0.0 in labels with no predicted samples. Use `zero_division` parameter to control this behavior.\n",
            "  _warn_prf(average, modifier, f\"{metric.capitalize()} is\", len(result))\n"
          ]
        }
      ]
    },
    {
      "cell_type": "code",
      "source": [
        "#  Simpan model ke format TensorFlow.js\n",
        "tfjs.converters.save_keras_model(model, \"tfjs_model\")\n",
        "print(\"\\n Model berhasil disimpan ke folder 'tfjs_model'\")"
      ],
      "metadata": {
        "colab": {
          "base_uri": "https://localhost:8080/"
        },
        "id": "Q4XguScs9kwh",
        "outputId": "dc0fd940-fe42-464d-c1ac-2714495034ce"
      },
      "id": "Q4XguScs9kwh",
      "execution_count": 67,
      "outputs": [
        {
          "output_type": "stream",
          "name": "stderr",
          "text": [
            "WARNING:absl:You are saving your model as an HDF5 file via `model.save()` or `keras.saving.save_model(model)`. This file format is considered legacy. We recommend using instead the native Keras format, e.g. `model.save('my_model.keras')` or `keras.saving.save_model(model, 'my_model.keras')`. \n"
          ]
        },
        {
          "output_type": "stream",
          "name": "stdout",
          "text": [
            "failed to lookup keras version from the file,\n",
            "    this is likely a weight only file\n",
            "\n",
            " Model berhasil disimpan ke folder 'tfjs_model'\n"
          ]
        }
      ]
    }
  ],
  "metadata": {
    "kernelspec": {
      "display_name": "Python 3",
      "language": "python",
      "name": "python3"
    },
    "language_info": {
      "codemirror_mode": {
        "name": "ipython",
        "version": 3
      },
      "file_extension": ".py",
      "mimetype": "text/x-python",
      "name": "python",
      "nbconvert_exporter": "python",
      "pygments_lexer": "ipython3",
      "version": "3.10.11"
    },
    "colab": {
      "provenance": []
    }
  },
  "nbformat": 4,
  "nbformat_minor": 5
}